{
 "cells": [
  {
   "cell_type": "markdown",
   "metadata": {},
   "source": [
    "# Introduction"
   ]
  },
  {
   "cell_type": "markdown",
   "metadata": {},
   "source": [
    "The goal of this short quiz is to make sure you have no trouble getting up and\n",
    "running with a Python distribution on your computer.\n",
    "\n",
    "In developing software for the DropBot digital microfluidics platform, we make\n",
    "heavy use of certain Python libraries, including [IPython notebook][4],\n",
    "[`numpy`][1] and [`pandas`][2]. Since pandas uses numpy under the hood, this quiz\n",
    "covers pandas usage.\n",
    "\n",
    "If you haven't used `pandas` before, I would highly recommend watching [this video][3]\n",
    "for a crash course before attempting this quiz.  The video is quite good, although\n",
    "I *would* recommend watching it at 1.25x speed at least, since the speaker talks\n",
    "*very* slowly.\n",
    "\n",
    "If you can't figure out how to answer a question, no problem. Also, don't worry if\n",
    "your output doesn't match exactly. We just want to get some idea of how familiar\n",
    "you are with these tools.\n",
    "\n",
    "When you're done, please save the notebook and email the resulting `.ipynb` file to us.\n",
    "\n",
    "Thanks a lot and good luck! :)\n",
    "\n",
    "\n",
    "[1]: http://www.numpy.org/\n",
    "[2]: http://pandas.pydata.org/\n",
    "[3]: https://www.youtube.com/watch?v=5JnMutdy6Fw\n",
    "[4]: http://ipython.org/notebook.html"
   ]
  },
  {
   "cell_type": "code",
   "execution_count": 2,
   "metadata": {
    "collapsed": false
   },
   "outputs": [],
   "source": [
    "import pandas as pd\n",
    "import numpy as np\n",
    "import datetime"
   ]
  },
  {
   "cell_type": "markdown",
   "metadata": {},
   "source": [
    "--------------------------------------------------"
   ]
  },
  {
   "cell_type": "markdown",
   "metadata": {},
   "source": [
    "# Load Toronto weather data (based on Environment Canada data)"
   ]
  },
  {
   "cell_type": "code",
   "execution_count": 3,
   "metadata": {
    "collapsed": false
   },
   "outputs": [
    {
     "data": {
      "text/html": [
       "<div>\n",
       "<table border=\"1\" class=\"dataframe\">\n",
       "  <thead>\n",
       "    <tr style=\"text-align: right;\">\n",
       "      <th></th>\n",
       "      <th>Month</th>\n",
       "      <th>Day</th>\n",
       "      <th>Max Temp (deg C)</th>\n",
       "      <th>Min Temp (deg C)</th>\n",
       "      <th>Mean Temp (deg C)</th>\n",
       "      <th>Total Precip (mm)</th>\n",
       "    </tr>\n",
       "    <tr>\n",
       "      <th>Date/Time</th>\n",
       "      <th></th>\n",
       "      <th></th>\n",
       "      <th></th>\n",
       "      <th></th>\n",
       "      <th></th>\n",
       "      <th></th>\n",
       "    </tr>\n",
       "  </thead>\n",
       "  <tbody>\n",
       "    <tr>\n",
       "      <th>2015-01-01</th>\n",
       "      <td>1</td>\n",
       "      <td>1</td>\n",
       "      <td>-0.4</td>\n",
       "      <td>-6.3</td>\n",
       "      <td>-3.4</td>\n",
       "      <td>0.0</td>\n",
       "    </tr>\n",
       "    <tr>\n",
       "      <th>2015-01-02</th>\n",
       "      <td>1</td>\n",
       "      <td>2</td>\n",
       "      <td>0.3</td>\n",
       "      <td>-4.4</td>\n",
       "      <td>-2.1</td>\n",
       "      <td>0.0</td>\n",
       "    </tr>\n",
       "    <tr>\n",
       "      <th>2015-01-03</th>\n",
       "      <td>1</td>\n",
       "      <td>3</td>\n",
       "      <td>2.9</td>\n",
       "      <td>-3.6</td>\n",
       "      <td>-0.4</td>\n",
       "      <td>6.3</td>\n",
       "    </tr>\n",
       "    <tr>\n",
       "      <th>2015-01-04</th>\n",
       "      <td>1</td>\n",
       "      <td>4</td>\n",
       "      <td>5.0</td>\n",
       "      <td>-4.7</td>\n",
       "      <td>0.2</td>\n",
       "      <td>2.8</td>\n",
       "    </tr>\n",
       "    <tr>\n",
       "      <th>2015-01-05</th>\n",
       "      <td>1</td>\n",
       "      <td>5</td>\n",
       "      <td>-4.5</td>\n",
       "      <td>-11.8</td>\n",
       "      <td>-8.2</td>\n",
       "      <td>0.0</td>\n",
       "    </tr>\n",
       "  </tbody>\n",
       "</table>\n",
       "</div>"
      ],
      "text/plain": [
       "            Month  Day  Max Temp (deg C)  Min Temp (deg C)  Mean Temp (deg C)  \\\n",
       "Date/Time                                                                       \n",
       "2015-01-01      1    1              -0.4              -6.3               -3.4   \n",
       "2015-01-02      1    2               0.3              -4.4               -2.1   \n",
       "2015-01-03      1    3               2.9              -3.6               -0.4   \n",
       "2015-01-04      1    4               5.0              -4.7                0.2   \n",
       "2015-01-05      1    5              -4.5             -11.8               -8.2   \n",
       "\n",
       "            Total Precip (mm)  \n",
       "Date/Time                      \n",
       "2015-01-01                0.0  \n",
       "2015-01-02                0.0  \n",
       "2015-01-03                6.3  \n",
       "2015-01-04                2.8  \n",
       "2015-01-05                0.0  "
      ]
     },
     "execution_count": 3,
     "metadata": {},
     "output_type": "execute_result"
    }
   ],
   "source": [
    "# Load data from CSV file using Pandas.  Rows are indexed by date.\n",
    "df_weather = pd.read_csv('2015-toronto-weather.csv', index_col='Date/Time',\n",
    "                         parse_dates=['Date/Time'], infer_datetime_format=True)\n",
    "# Display first few rows of table.\n",
    "df_weather.head()"
   ]
  },
  {
   "cell_type": "markdown",
   "metadata": {},
   "source": [
    "--------------------------------------------------"
   ]
  },
  {
   "cell_type": "code",
   "execution_count": 4,
   "metadata": {
    "collapsed": false
   },
   "outputs": [],
   "source": [
    "# Draw plots as images in the notebook.\n",
    "%matplotlib inline"
   ]
  },
  {
   "cell_type": "markdown",
   "metadata": {},
   "source": [
    "--------------------------------------------------"
   ]
  },
  {
   "cell_type": "markdown",
   "metadata": {},
   "source": [
    "# Questions"
   ]
  },
  {
   "cell_type": "markdown",
   "metadata": {},
   "source": [
    "## Which days had more than 3mm of precipitation?"
   ]
  },
  {
   "cell_type": "markdown",
   "metadata": {},
   "source": [
    "*Hint*: You may find [boolean indexing][1] helpful when answering this question.\n",
    "\n",
    "[1]: http://pandas.pydata.org/pandas-docs/stable/indexing.html#boolean-indexing"
   ]
  },
  {
   "cell_type": "code",
   "execution_count": 5,
   "metadata": {
    "collapsed": false
   },
   "outputs": [
    {
     "data": {
      "text/html": [
       "<div>\n",
       "<table border=\"1\" class=\"dataframe\">\n",
       "  <thead>\n",
       "    <tr style=\"text-align: right;\">\n",
       "      <th></th>\n",
       "      <th>Month</th>\n",
       "      <th>Day</th>\n",
       "      <th>Max Temp (deg C)</th>\n",
       "      <th>Min Temp (deg C)</th>\n",
       "      <th>Mean Temp (deg C)</th>\n",
       "      <th>Total Precip (mm)</th>\n",
       "    </tr>\n",
       "    <tr>\n",
       "      <th>Date/Time</th>\n",
       "      <th></th>\n",
       "      <th></th>\n",
       "      <th></th>\n",
       "      <th></th>\n",
       "      <th></th>\n",
       "      <th></th>\n",
       "    </tr>\n",
       "  </thead>\n",
       "  <tbody>\n",
       "    <tr>\n",
       "      <th>2015-01-03</th>\n",
       "      <td>1</td>\n",
       "      <td>3</td>\n",
       "      <td>2.9</td>\n",
       "      <td>-3.6</td>\n",
       "      <td>-0.4</td>\n",
       "      <td>6.3</td>\n",
       "    </tr>\n",
       "    <tr>\n",
       "      <th>2015-03-21</th>\n",
       "      <td>3</td>\n",
       "      <td>21</td>\n",
       "      <td>7.2</td>\n",
       "      <td>-5.1</td>\n",
       "      <td>1.1</td>\n",
       "      <td>3.8</td>\n",
       "    </tr>\n",
       "    <tr>\n",
       "      <th>2015-04-02</th>\n",
       "      <td>4</td>\n",
       "      <td>2</td>\n",
       "      <td>10.6</td>\n",
       "      <td>1.8</td>\n",
       "      <td>6.2</td>\n",
       "      <td>3.3</td>\n",
       "    </tr>\n",
       "    <tr>\n",
       "      <th>2015-04-08</th>\n",
       "      <td>4</td>\n",
       "      <td>8</td>\n",
       "      <td>3.8</td>\n",
       "      <td>1.4</td>\n",
       "      <td>2.6</td>\n",
       "      <td>17.3</td>\n",
       "    </tr>\n",
       "    <tr>\n",
       "      <th>2015-04-09</th>\n",
       "      <td>4</td>\n",
       "      <td>9</td>\n",
       "      <td>7.1</td>\n",
       "      <td>2.2</td>\n",
       "      <td>4.7</td>\n",
       "      <td>12.1</td>\n",
       "    </tr>\n",
       "    <tr>\n",
       "      <th>2015-04-13</th>\n",
       "      <td>4</td>\n",
       "      <td>13</td>\n",
       "      <td>15.6</td>\n",
       "      <td>4.3</td>\n",
       "      <td>10.0</td>\n",
       "      <td>3.8</td>\n",
       "    </tr>\n",
       "    <tr>\n",
       "      <th>2015-04-19</th>\n",
       "      <td>4</td>\n",
       "      <td>19</td>\n",
       "      <td>10.3</td>\n",
       "      <td>4.0</td>\n",
       "      <td>7.2</td>\n",
       "      <td>9.0</td>\n",
       "    </tr>\n",
       "    <tr>\n",
       "      <th>2015-04-20</th>\n",
       "      <td>4</td>\n",
       "      <td>20</td>\n",
       "      <td>12.9</td>\n",
       "      <td>4.4</td>\n",
       "      <td>8.7</td>\n",
       "      <td>24.5</td>\n",
       "    </tr>\n",
       "    <tr>\n",
       "      <th>2015-04-21</th>\n",
       "      <td>4</td>\n",
       "      <td>21</td>\n",
       "      <td>10.0</td>\n",
       "      <td>2.9</td>\n",
       "      <td>6.5</td>\n",
       "      <td>4.8</td>\n",
       "    </tr>\n",
       "    <tr>\n",
       "      <th>2015-05-11</th>\n",
       "      <td>5</td>\n",
       "      <td>11</td>\n",
       "      <td>16.5</td>\n",
       "      <td>9.8</td>\n",
       "      <td>13.2</td>\n",
       "      <td>6.8</td>\n",
       "    </tr>\n",
       "    <tr>\n",
       "      <th>2015-05-31</th>\n",
       "      <td>5</td>\n",
       "      <td>31</td>\n",
       "      <td>12.5</td>\n",
       "      <td>8.0</td>\n",
       "      <td>10.3</td>\n",
       "      <td>20.3</td>\n",
       "    </tr>\n",
       "    <tr>\n",
       "      <th>2015-06-05</th>\n",
       "      <td>6</td>\n",
       "      <td>5</td>\n",
       "      <td>21.5</td>\n",
       "      <td>9.8</td>\n",
       "      <td>15.7</td>\n",
       "      <td>10.4</td>\n",
       "    </tr>\n",
       "    <tr>\n",
       "      <th>2015-06-07</th>\n",
       "      <td>6</td>\n",
       "      <td>7</td>\n",
       "      <td>16.4</td>\n",
       "      <td>9.5</td>\n",
       "      <td>13.0</td>\n",
       "      <td>9.6</td>\n",
       "    </tr>\n",
       "    <tr>\n",
       "      <th>2015-06-10</th>\n",
       "      <td>6</td>\n",
       "      <td>10</td>\n",
       "      <td>23.7</td>\n",
       "      <td>11.2</td>\n",
       "      <td>17.5</td>\n",
       "      <td>13.4</td>\n",
       "    </tr>\n",
       "    <tr>\n",
       "      <th>2015-06-12</th>\n",
       "      <td>6</td>\n",
       "      <td>12</td>\n",
       "      <td>18.8</td>\n",
       "      <td>14.1</td>\n",
       "      <td>16.5</td>\n",
       "      <td>10.3</td>\n",
       "    </tr>\n",
       "    <tr>\n",
       "      <th>2015-06-14</th>\n",
       "      <td>6</td>\n",
       "      <td>14</td>\n",
       "      <td>18.1</td>\n",
       "      <td>13.4</td>\n",
       "      <td>15.8</td>\n",
       "      <td>4.6</td>\n",
       "    </tr>\n",
       "    <tr>\n",
       "      <th>2015-06-16</th>\n",
       "      <td>6</td>\n",
       "      <td>16</td>\n",
       "      <td>27.3</td>\n",
       "      <td>15.0</td>\n",
       "      <td>21.2</td>\n",
       "      <td>17.7</td>\n",
       "    </tr>\n",
       "    <tr>\n",
       "      <th>2015-06-22</th>\n",
       "      <td>6</td>\n",
       "      <td>22</td>\n",
       "      <td>23.9</td>\n",
       "      <td>16.2</td>\n",
       "      <td>20.1</td>\n",
       "      <td>19.0</td>\n",
       "    </tr>\n",
       "    <tr>\n",
       "      <th>2015-06-27</th>\n",
       "      <td>6</td>\n",
       "      <td>27</td>\n",
       "      <td>20.1</td>\n",
       "      <td>12.9</td>\n",
       "      <td>16.5</td>\n",
       "      <td>38.2</td>\n",
       "    </tr>\n",
       "    <tr>\n",
       "      <th>2015-06-28</th>\n",
       "      <td>6</td>\n",
       "      <td>28</td>\n",
       "      <td>15.7</td>\n",
       "      <td>12.4</td>\n",
       "      <td>14.1</td>\n",
       "      <td>11.5</td>\n",
       "    </tr>\n",
       "    <tr>\n",
       "      <th>2015-07-07</th>\n",
       "      <td>7</td>\n",
       "      <td>7</td>\n",
       "      <td>24.9</td>\n",
       "      <td>17.1</td>\n",
       "      <td>21.0</td>\n",
       "      <td>8.3</td>\n",
       "    </tr>\n",
       "    <tr>\n",
       "      <th>2015-07-17</th>\n",
       "      <td>7</td>\n",
       "      <td>17</td>\n",
       "      <td>20.2</td>\n",
       "      <td>17.2</td>\n",
       "      <td>18.7</td>\n",
       "      <td>6.3</td>\n",
       "    </tr>\n",
       "    <tr>\n",
       "      <th>2015-08-02</th>\n",
       "      <td>8</td>\n",
       "      <td>2</td>\n",
       "      <td>24.0</td>\n",
       "      <td>13.4</td>\n",
       "      <td>18.7</td>\n",
       "      <td>13.6</td>\n",
       "    </tr>\n",
       "    <tr>\n",
       "      <th>2015-08-04</th>\n",
       "      <td>8</td>\n",
       "      <td>4</td>\n",
       "      <td>23.5</td>\n",
       "      <td>12.0</td>\n",
       "      <td>17.8</td>\n",
       "      <td>4.6</td>\n",
       "    </tr>\n",
       "    <tr>\n",
       "      <th>2015-08-10</th>\n",
       "      <td>8</td>\n",
       "      <td>10</td>\n",
       "      <td>21.2</td>\n",
       "      <td>15.1</td>\n",
       "      <td>18.2</td>\n",
       "      <td>10.5</td>\n",
       "    </tr>\n",
       "    <tr>\n",
       "      <th>2015-08-14</th>\n",
       "      <td>8</td>\n",
       "      <td>14</td>\n",
       "      <td>23.1</td>\n",
       "      <td>19.4</td>\n",
       "      <td>21.3</td>\n",
       "      <td>3.9</td>\n",
       "    </tr>\n",
       "  </tbody>\n",
       "</table>\n",
       "</div>"
      ],
      "text/plain": [
       "            Month  Day  Max Temp (deg C)  Min Temp (deg C)  Mean Temp (deg C)  \\\n",
       "Date/Time                                                                       \n",
       "2015-01-03      1    3               2.9              -3.6               -0.4   \n",
       "2015-03-21      3   21               7.2              -5.1                1.1   \n",
       "2015-04-02      4    2              10.6               1.8                6.2   \n",
       "2015-04-08      4    8               3.8               1.4                2.6   \n",
       "2015-04-09      4    9               7.1               2.2                4.7   \n",
       "2015-04-13      4   13              15.6               4.3               10.0   \n",
       "2015-04-19      4   19              10.3               4.0                7.2   \n",
       "2015-04-20      4   20              12.9               4.4                8.7   \n",
       "2015-04-21      4   21              10.0               2.9                6.5   \n",
       "2015-05-11      5   11              16.5               9.8               13.2   \n",
       "2015-05-31      5   31              12.5               8.0               10.3   \n",
       "2015-06-05      6    5              21.5               9.8               15.7   \n",
       "2015-06-07      6    7              16.4               9.5               13.0   \n",
       "2015-06-10      6   10              23.7              11.2               17.5   \n",
       "2015-06-12      6   12              18.8              14.1               16.5   \n",
       "2015-06-14      6   14              18.1              13.4               15.8   \n",
       "2015-06-16      6   16              27.3              15.0               21.2   \n",
       "2015-06-22      6   22              23.9              16.2               20.1   \n",
       "2015-06-27      6   27              20.1              12.9               16.5   \n",
       "2015-06-28      6   28              15.7              12.4               14.1   \n",
       "2015-07-07      7    7              24.9              17.1               21.0   \n",
       "2015-07-17      7   17              20.2              17.2               18.7   \n",
       "2015-08-02      8    2              24.0              13.4               18.7   \n",
       "2015-08-04      8    4              23.5              12.0               17.8   \n",
       "2015-08-10      8   10              21.2              15.1               18.2   \n",
       "2015-08-14      8   14              23.1              19.4               21.3   \n",
       "\n",
       "            Total Precip (mm)  \n",
       "Date/Time                      \n",
       "2015-01-03                6.3  \n",
       "2015-03-21                3.8  \n",
       "2015-04-02                3.3  \n",
       "2015-04-08               17.3  \n",
       "2015-04-09               12.1  \n",
       "2015-04-13                3.8  \n",
       "2015-04-19                9.0  \n",
       "2015-04-20               24.5  \n",
       "2015-04-21                4.8  \n",
       "2015-05-11                6.8  \n",
       "2015-05-31               20.3  \n",
       "2015-06-05               10.4  \n",
       "2015-06-07                9.6  \n",
       "2015-06-10               13.4  \n",
       "2015-06-12               10.3  \n",
       "2015-06-14                4.6  \n",
       "2015-06-16               17.7  \n",
       "2015-06-22               19.0  \n",
       "2015-06-27               38.2  \n",
       "2015-06-28               11.5  \n",
       "2015-07-07                8.3  \n",
       "2015-07-17                6.3  \n",
       "2015-08-02               13.6  \n",
       "2015-08-04                4.6  \n",
       "2015-08-10               10.5  \n",
       "2015-08-14                3.9  "
      ]
     },
     "execution_count": 5,
     "metadata": {},
     "output_type": "execute_result"
    }
   ],
   "source": [
    "df = df_weather\n",
    "df[df['Total Precip (mm)'] > 3]"
   ]
  },
  {
   "cell_type": "markdown",
   "metadata": {},
   "source": [
    "## Plot max/min/mean temperature and total precipitation for May-August"
   ]
  },
  {
   "cell_type": "markdown",
   "metadata": {},
   "source": [
    "*Hint*: Again, you may find [boolean indexing][1] helpful when answering this question.\n",
    "\n",
    "*Note:* Be careful when combining two or more boolean index queries.  See [this video][2] for\n",
    "more information.\n",
    "\n",
    "[1]: http://pandas.pydata.org/pandas-docs/stable/indexing.html#boolean-indexing\n",
    "[2]: https://youtu.be/5JnMutdy6Fw?t=31m21s"
   ]
  },
  {
   "cell_type": "code",
   "execution_count": 6,
   "metadata": {
    "collapsed": false
   },
   "outputs": [
    {
     "data": {
      "text/plain": [
       "<matplotlib.axes._subplots.AxesSubplot at 0x7e0d510>"
      ]
     },
     "execution_count": 6,
     "metadata": {},
     "output_type": "execute_result"
    },
    {
     "data": {
      "image/png": "[encoded data removed]",
      "text/plain": [
       "<matplotlib.figure.Figure at 0x7e0de70>"
      ]
     },
     "metadata": {},
     "output_type": "display_data"
    }
   ],
   "source": [
    "df = df_weather\n",
    "s = df[(df.Month >= 5) & (df.Month <= 8)]\n",
    "s.iloc[:,2:6].plot()"
   ]
  },
  {
   "cell_type": "markdown",
   "metadata": {},
   "source": [
    "## Which months had a mean monthly temperature between 15 and 20 degrees?"
   ]
  },
  {
   "cell_type": "markdown",
   "metadata": {},
   "source": [
    "Hint: First find mean monthly temperature.  This can be done, for example, using\n",
    "[`groupby`][1] (more info [here][2]).  Since the weather table is indexed by date,\n",
    "this can also be accomplished using [`resample`][3].\n",
    "\n",
    "Feel free to use any method you would like.  The solutions below show the output for using\n",
    "`groupby` and `resample` just for reference (you don't need to do both).\n",
    "    \n",
    "[1]: http://pandas.pydata.org/pandas-docs/stable/generated/pandas.DataFrame.groupby.html\n",
    "[2]: http://pandas.pydata.org/pandas-docs/stable/groupby.html\n",
    "[3]: http://pandas.pydata.org/pandas-docs/stable/timeseries.html#time-series-date-functionality"
   ]
  },
  {
   "cell_type": "markdown",
   "metadata": {},
   "source": [
    "### Using `groupby`"
   ]
  },
  {
   "cell_type": "code",
   "execution_count": 7,
   "metadata": {
    "collapsed": false
   },
   "outputs": [
    {
     "data": {
      "text/html": [
       "<div>\n",
       "<table border=\"1\" class=\"dataframe\">\n",
       "  <thead>\n",
       "    <tr style=\"text-align: right;\">\n",
       "      <th></th>\n",
       "      <th>Day</th>\n",
       "      <th>Max Temp (deg C)</th>\n",
       "      <th>Min Temp (deg C)</th>\n",
       "      <th>Mean Temp (deg C)</th>\n",
       "      <th>Total Precip (mm)</th>\n",
       "    </tr>\n",
       "    <tr>\n",
       "      <th>Month</th>\n",
       "      <th></th>\n",
       "      <th></th>\n",
       "      <th></th>\n",
       "      <th></th>\n",
       "      <th></th>\n",
       "    </tr>\n",
       "  </thead>\n",
       "  <tbody>\n",
       "    <tr>\n",
       "      <th>6</th>\n",
       "      <td>16.0</td>\n",
       "      <td>20.482143</td>\n",
       "      <td>13.067857</td>\n",
       "      <td>16.807143</td>\n",
       "      <td>4.864286</td>\n",
       "    </tr>\n",
       "    <tr>\n",
       "      <th>8</th>\n",
       "      <td>9.5</td>\n",
       "      <td>24.316667</td>\n",
       "      <td>15.594444</td>\n",
       "      <td>19.977778</td>\n",
       "      <td>1.994444</td>\n",
       "    </tr>\n",
       "  </tbody>\n",
       "</table>\n",
       "</div>"
      ],
      "text/plain": [
       "        Day  Max Temp (deg C)  Min Temp (deg C)  Mean Temp (deg C)  \\\n",
       "Month                                                                \n",
       "6      16.0         20.482143         13.067857          16.807143   \n",
       "8       9.5         24.316667         15.594444          19.977778   \n",
       "\n",
       "       Total Precip (mm)  \n",
       "Month                     \n",
       "6               4.864286  \n",
       "8               1.994444  "
      ]
     },
     "execution_count": 7,
     "metadata": {},
     "output_type": "execute_result"
    }
   ],
   "source": [
    "df = df_weather\n",
    "mean = df.groupby(['Month']).mean()\n",
    "s = mean[(mean['Mean Temp (deg C)'] >= 15) & (mean['Mean Temp (deg C)'] <= 20)]\n",
    "s"
   ]
  },
  {
   "cell_type": "markdown",
   "metadata": {},
   "source": [
    "### Using `resample`"
   ]
  },
  {
   "cell_type": "code",
   "execution_count": 7,
   "metadata": {
    "collapsed": false
   },
   "outputs": [
    {
     "data": {
      "text/html": [
       "<div style=\"max-width:1500px;overflow:auto;\">\n",
       "<table border=\"1\" class=\"dataframe\">\n",
       "  <thead>\n",
       "    <tr style=\"text-align: right;\">\n",
       "      <th></th>\n",
       "      <th>Month</th>\n",
       "      <th>Day</th>\n",
       "      <th>Max Temp (deg C)</th>\n",
       "      <th>Min Temp (deg C)</th>\n",
       "      <th>Mean Temp (deg C)</th>\n",
       "      <th>Total Precip (mm)</th>\n",
       "    </tr>\n",
       "    <tr>\n",
       "      <th>Date/Time</th>\n",
       "      <th></th>\n",
       "      <th></th>\n",
       "      <th></th>\n",
       "      <th></th>\n",
       "      <th></th>\n",
       "      <th></th>\n",
       "    </tr>\n",
       "  </thead>\n",
       "  <tbody>\n",
       "    <tr>\n",
       "      <th>2015-06-30</th>\n",
       "      <td>6</td>\n",
       "      <td>16.0</td>\n",
       "      <td>20.482143</td>\n",
       "      <td>13.067857</td>\n",
       "      <td>16.807143</td>\n",
       "      <td>4.864286</td>\n",
       "    </tr>\n",
       "    <tr>\n",
       "      <th>2015-08-31</th>\n",
       "      <td>8</td>\n",
       "      <td>9.5</td>\n",
       "      <td>24.316667</td>\n",
       "      <td>15.594444</td>\n",
       "      <td>19.977778</td>\n",
       "      <td>1.994444</td>\n",
       "    </tr>\n",
       "  </tbody>\n",
       "</table>\n",
       "</div>"
      ],
      "text/plain": [
       "            Month   Day  Max Temp (deg C)  Min Temp (deg C)  \\\n",
       "Date/Time                                                     \n",
       "2015-06-30      6  16.0         20.482143         13.067857   \n",
       "2015-08-31      8   9.5         24.316667         15.594444   \n",
       "\n",
       "            Mean Temp (deg C)  Total Precip (mm)  \n",
       "Date/Time                                         \n",
       "2015-06-30          16.807143           4.864286  \n",
       "2015-08-31          19.977778           1.994444  "
      ]
     },
     "execution_count": 7,
     "metadata": {},
     "output_type": "execute_result"
    }
   ],
   "source": []
  }
 ],
 "metadata": {
  "kernelspec": {
   "display_name": "Python 2",
   "language": "python",
   "name": "python2"
  },
  "language_info": {
   "codemirror_mode": {
    "name": "ipython",
    "version": 2
   },
   "file_extension": ".py",
   "mimetype": "text/x-python",
   "name": "python",
   "nbconvert_exporter": "python",
   "pygments_lexer": "ipython2",
   "version": "2.7.8"
  }
 },
 "nbformat": 4,
 "nbformat_minor": 0
}
